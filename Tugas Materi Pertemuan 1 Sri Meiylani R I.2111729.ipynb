{
  "nbformat": 4,
  "nbformat_minor": 0,
  "metadata": {
    "colab": {
      "provenance": []
    },
    "kernelspec": {
      "name": "python3",
      "display_name": "Python 3"
    },
    "language_info": {
      "name": "python"
    }
  },
  "cells": [
    {
      "cell_type": "markdown",
      "source": [
        "Sigma (Penjumlahan)"
      ],
      "metadata": {
        "id": "Ao13rE4rQRbb"
      }
    },
    {
      "cell_type": "markdown",
      "source": [
        "$$\n",
        "\\sum_{i=1}^{100} 2^{2i+1}.\n",
        "$$"
      ],
      "metadata": {
        "id": "K9JgRRo8O5MC"
      }
    },
    {
      "cell_type": "code",
      "execution_count": 23,
      "metadata": {
        "id": "oaXc3e-3LVNR",
        "colab": {
          "base_uri": "https://localhost:8080/"
        },
        "outputId": "ad89d99d-e58b-4db0-d49f-33ec3e8ff505"
      },
      "outputs": [
        {
          "output_type": "stream",
          "name": "stdout",
          "text": [
            "Hasilnya =  4285168118023974068111898912909766940059207983420780894137000\n"
          ]
        }
      ],
      "source": [
        "a=0\n",
        "\n",
        "for i in range(1,101):\n",
        "  a = a + 2**(2*i+1)\n",
        "\n",
        "print('Hasilnya = ', a)"
      ]
    },
    {
      "cell_type": "markdown",
      "source": [
        "Pi (Perkalian)"
      ],
      "metadata": {
        "id": "ltaIA_FZQVZY"
      }
    },
    {
      "cell_type": "markdown",
      "source": [
        "$$\n",
        "\\prod_{j=1}^{50} 2j+2.\n",
        "$$"
      ],
      "metadata": {
        "id": "wrQq8fU2PWyY"
      }
    },
    {
      "cell_type": "code",
      "source": [
        "hasil = 1\n",
        "for j in range(1,50+1):\n",
        "  hasil = hasil * abs(2*j+2)\n",
        "print(\"Hasil = \" , hasil)\n"
      ],
      "metadata": {
        "id": "K4OB2TW9PWYx",
        "colab": {
          "base_uri": "https://localhost:8080/"
        },
        "outputId": "dae4996c-83ba-400d-9f65-ab2f7d3eb600"
      },
      "execution_count": 5,
      "outputs": [
        {
          "output_type": "stream",
          "name": "stdout",
          "text": [
            "Hasil =  1746404459828110788660568077655617484731052427739679140223698377637888000000000000\n"
          ]
        }
      ]
    },
    {
      "cell_type": "markdown",
      "source": [
        "Faktorial"
      ],
      "metadata": {
        "id": "FeJ78alMQ2Ey"
      }
    },
    {
      "cell_type": "markdown",
      "source": [
        "$$\n",
        "10!\n",
        "$$"
      ],
      "metadata": {
        "id": "rEgK4ed0Qyx2"
      }
    },
    {
      "cell_type": "code",
      "source": [
        "def faktorial(n):\n",
        "  a=1\n",
        "  for i in range(1,n+1):\n",
        "    a = a*i\n",
        "    return(a)\n",
        "    faktorial(10)\n"
      ],
      "metadata": {
        "id": "Mh53IlGdO63e"
      },
      "execution_count": 18,
      "outputs": []
    },
    {
      "cell_type": "markdown",
      "source": [
        "Absolute"
      ],
      "metadata": {
        "id": "smklrzDSRMrq"
      }
    },
    {
      "cell_type": "markdown",
      "source": [
        "$$\n",
        "f(x) = |2x-1|,\n",
        "f(-100)=\n",
        "$$"
      ],
      "metadata": {
        "id": "9QqR9YkrQ-US"
      }
    },
    {
      "cell_type": "code",
      "source": [
        "def f(x):\n",
        "  return abs(2*x-1)\n",
        "  x_value =-100\n",
        "  hasil =f(x_value)\n",
        "  print(\"Hasil f(-100) adalah \", hasil)"
      ],
      "metadata": {
        "id": "8ZWZXhrZRMNZ"
      },
      "execution_count": 16,
      "outputs": []
    },
    {
      "cell_type": "markdown",
      "source": [
        "Fungsi Sepotong-sepotong (Piecewise Function)"
      ],
      "metadata": {
        "id": "M3guYUWsScnY"
      }
    },
    {
      "cell_type": "markdown",
      "source": [
        "$$\n",
        "f(x)=\n",
        "\\begin{cases}\n",
        "x^{2} & \\text{x < 0}, \\\\\n",
        "x+2 & \\text{x >= 0}.\n",
        "\\end{cases}\n",
        "f(3)=\n",
        "$$"
      ],
      "metadata": {
        "id": "sd7LZl_JRlDE"
      }
    },
    {
      "cell_type": "code",
      "source": [
        "def f(x) :\n",
        "  if x<0:\n",
        "    return x**2\n",
        "  elif x>=0:\n",
        "   return x+2\n",
        "\n",
        "x_value = 3\n",
        "hasil = f(x_value)\n",
        "print (\"Hasil = \", hasil)"
      ],
      "metadata": {
        "id": "dS7XjBWlRv8W",
        "colab": {
          "base_uri": "https://localhost:8080/"
        },
        "outputId": "0267577f-9219-4984-ddf7-a015ef6b3760"
      },
      "execution_count": 19,
      "outputs": [
        {
          "output_type": "stream",
          "name": "stdout",
          "text": [
            "Hasil =  5\n"
          ]
        }
      ]
    },
    {
      "cell_type": "markdown",
      "source": [
        "Matrix"
      ],
      "metadata": {
        "id": "VvfDI7hNVUoN"
      }
    },
    {
      "cell_type": "markdown",
      "source": [
        "\n",
        "$$\n",
        "\\begin{bmatrix}\n",
        "2 & 3 \\\\\n",
        "1 & 5\n",
        "\\end{bmatrix}\n",
        "*\n",
        "\\begin{bmatrix}\n",
        "7 & 0.5 \\\\\n",
        "4 & 0\n",
        "\\end{bmatrix}\n",
        "$$"
      ],
      "metadata": {
        "id": "JLh40-aAVrSI"
      }
    },
    {
      "cell_type": "code",
      "source": [
        "import numpy as np\n",
        "import math\n",
        "\n",
        "a = np.array([[2,3],[1,5]])\n",
        "b = np.array([[7,0.5],[4,0]])\n",
        "\n",
        "print(np.dot(a,b))"
      ],
      "metadata": {
        "id": "L9rh8MqEVr3n",
        "colab": {
          "base_uri": "https://localhost:8080/"
        },
        "outputId": "c6f798d1-cca7-487f-b49d-4bc808cea203"
      },
      "execution_count": 13,
      "outputs": [
        {
          "output_type": "stream",
          "name": "stdout",
          "text": [
            "[[26.   1. ]\n",
            " [27.   0.5]]\n"
          ]
        }
      ]
    }
  ]
}